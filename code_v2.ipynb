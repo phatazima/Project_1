{
 "cells": [
  {
   "cell_type": "markdown",
   "metadata": {},
   "source": [
    "# Shark Attack Project #"
   ]
  },
  {
   "cell_type": "markdown",
   "metadata": {},
   "source": [
    "## Goal"
   ]
  },
  {
   "cell_type": "markdown",
   "metadata": {},
   "source": [
    "This project has 3 main questions to answers as a goal:\n",
    "\n",
    "1. What are the top 10 places in the world with the highest number of shark attacks historically?\n",
    "\n",
    "1. What are the top 10 places in the world with the highest number of death by shark attack historycally? Is it the same answer as question 1?\n",
    "\n",
    "1. Is there a difference in death rate (number of deaths/number of attacks) between places?"
   ]
  },
  {
   "cell_type": "markdown",
   "metadata": {},
   "source": [
    "## Coding"
   ]
  },
  {
   "cell_type": "markdown",
   "metadata": {},
   "source": [
    "### Importing modules that will be used throughout the code"
   ]
  },
  {
   "cell_type": "code",
   "execution_count": 63,
   "metadata": {},
   "outputs": [],
   "source": [
    "import pandas as pd\n",
    "import numpy as np\n",
    "import re"
   ]
  },
  {
   "cell_type": "code",
   "execution_count": 65,
   "metadata": {},
   "outputs": [
    {
     "name": "stdout",
     "output_type": "stream",
     "text": [
      "<class 'pandas.core.frame.DataFrame'>\n",
      "RangeIndex: 25723 entries, 0 to 25722\n",
      "Data columns (total 24 columns):\n",
      " #   Column                  Non-Null Count  Dtype  \n",
      "---  ------                  --------------  -----  \n",
      " 0   Case Number             8702 non-null   object \n",
      " 1   Date                    6302 non-null   object \n",
      " 2   Year                    6300 non-null   float64\n",
      " 3   Type                    6298 non-null   object \n",
      " 4   Country                 6252 non-null   object \n",
      " 5   Area                    5847 non-null   object \n",
      " 6   Location                5762 non-null   object \n",
      " 7   Activity                5758 non-null   object \n",
      " 8   Name                    6092 non-null   object \n",
      " 9   Sex                     5737 non-null   object \n",
      " 10  Age                     3471 non-null   object \n",
      " 11  Injury                  6274 non-null   object \n",
      " 12  Fatal (Y/N)             5763 non-null   object \n",
      " 13  Time                    2948 non-null   object \n",
      " 14  Species                 3464 non-null   object \n",
      " 15  Investigator or Source  6285 non-null   object \n",
      " 16  pdf                     6302 non-null   object \n",
      " 17  href formula            6301 non-null   object \n",
      " 18  href                    6302 non-null   object \n",
      " 19  Case Number.1           6302 non-null   object \n",
      " 20  Case Number.2           6302 non-null   object \n",
      " 21  original order          6309 non-null   float64\n",
      " 22  Unnamed: 22             1 non-null      object \n",
      " 23  Unnamed: 23             2 non-null      object \n",
      "dtypes: float64(2), object(22)\n",
      "memory usage: 4.7+ MB\n"
     ]
    }
   ],
   "source": [
    "# Importing raw data base and assigning the DataFrame to a variable called raw_data\n",
    "raw_data = pd.read_csv('data/attacks.csv')\n",
    "# Checking which columns have non null values\n",
    "raw_data.info()\n",
    "# raw_data.head()"
   ]
  },
  {
   "cell_type": "code",
   "execution_count": 66,
   "metadata": {},
   "outputs": [],
   "source": [
    "# Removing columns not useful from for the analysis and applying to a new variable called raw_data_1. \n",
    "columns_to_remove = [\n",
    "                    'Unnamed: 22',\n",
    "                    'Unnamed: 23'\n",
    "                    ]\n",
    "raw_data_1 = raw_data.drop(columns_to_remove,axis=1)\n",
    "# df.columns = [x.lower() for x in df.columns]\n",
    "new_columns_dict = {columns:columns.strip().replace(' ', '_').title() for columns in raw_data_1.columns}\n",
    "raw_data_1.rename(columns = new_columns_dict, inplace = True)"
   ]
  },
  {
   "cell_type": "code",
   "execution_count": 67,
   "metadata": {},
   "outputs": [],
   "source": [
    "# Droping values that has NaN fullfiled in 'important' columns\n",
    "raw_data_1.dropna(subset = ['Case_Number','Date'],inplace = True)"
   ]
  },
  {
   "cell_type": "code",
   "execution_count": 68,
   "metadata": {},
   "outputs": [
    {
     "data": {
      "text/plain": [
       "count    6299.000000\n",
       "mean     1927.275917\n",
       "std       281.138485\n",
       "min         0.000000\n",
       "25%      1942.000000\n",
       "50%      1977.000000\n",
       "75%      2005.000000\n",
       "max      2018.000000\n",
       "Name: Year, dtype: float64"
      ]
     },
     "execution_count": 68,
     "metadata": {},
     "output_type": "execute_result"
    }
   ],
   "source": [
    "## Checking the values in column Year\n",
    "raw_data_1.Year.describe()"
   ]
  },
  {
   "cell_type": "code",
   "execution_count": 71,
   "metadata": {},
   "outputs": [
    {
     "data": {
      "text/plain": [
       "array(['Ca. 214 B.C.', 'Ca. 336.B.C..', '493 B.C.', 'Ca. 725 B.C.',\n",
       "       'Before 1939', '1990 or 1991', 'Before 2016', 'Before Oct-2009',\n",
       "       'Before 1934', '2009?', 'Before 1930', '1880-1899', 'Before 1909',\n",
       "       'Before 2012', 'Before 1916', 'Between   1951-1963', 'Before 1908',\n",
       "       'Before 1900', 'Before 1876', 'Before 2011', 'Before 2009',\n",
       "       'Beforer 1994', 'Before 1963', '1896-1913', 'Before 1936',\n",
       "       'Before 08-Jun-1912', 'Before 1911', 'Before 1901',\n",
       "       'No date, late 1960s', 'Before 2006', 'Before 2003', 'Before 2004',\n",
       "       'Before 1962', '1950s', 'No date, Before 1963', '2003?', 'No date',\n",
       "       'Before Feb-1998', 'No date, Before May-1996',\n",
       "       'No date, Before Mar-1995', 'Before 1996',\n",
       "       'No date, Before Aug-1989', 'No date, Before Aug-1987',\n",
       "       'No date, Before 1987', 'No date, Before  1975',\n",
       "       'No date, Before 1975', 'No date, Before 1969',\n",
       "       'No date, Before 3-Jan-1967', 'No date, Before 8-May-1965',\n",
       "       'No date, Before 1902',\n",
       "       'No date, After August 1926 and before 1936', 'Before 1961',\n",
       "       '1960s', 'Before 1960', 'Before  19-Jun-1959',\n",
       "       'Before  24 Apr-1959', 'Before  1958', 'Before 1958',\n",
       "       'Before 1957', 'Before 1956', 'Before Mar-1956', 'Before 1952',\n",
       "       '1941-1945', '\"During the war\" 1943-1945', '\"Before the war\"',\n",
       "       'Said to be 1941-1945, more likely 1945', '1941-1942',\n",
       "       '1940 - 1950', '1940-1946', 'Before 1905', 'World War II',\n",
       "       'A few years before 1938', 'Early 1930s', 'Before 1927',\n",
       "       'Between 1918 & 1939', '1920 -1923', 'Before 1921', 'Before 1917',\n",
       "       'Before 17-Jul-1916',\n",
       "       'No date (3 days after preceding incident) & prior to 19-Jul-1913',\n",
       "       'Before 19-Jul-1913', 'Circa 1862', 'Before 1906', 'Before 1903',\n",
       "       '1900-1905', '1883-1889', '1845-1853'], dtype=object)"
      ]
     },
     "execution_count": 71,
     "metadata": {},
     "output_type": "execute_result"
    }
   ],
   "source": [
    "# Checking column date where Year = 0, in an attempt to treat the cases with Year = 0\n",
    "raw_data_1[raw_data_1.Year == 0].Date.unique()"
   ]
  },
  {
   "cell_type": "code",
   "execution_count": 72,
   "metadata": {},
   "outputs": [],
   "source": [
    "# Defining function to treat Year column using values from Date column\n",
    "def treat_col_year(x):\n",
    "    if 'B.C.' in x:\n",
    "        x1 = re.sub('\\D','', x)\n",
    "        return -int(x1)\n",
    "    else:\n",
    "        try:\n",
    "            x1 = re.sub('\\D',\"\", x)\n",
    "            return int(x1[len(x1)-4:])\n",
    "        except:\n",
    "            return np.nan"
   ]
  },
  {
   "cell_type": "code",
   "execution_count": 73,
   "metadata": {},
   "outputs": [
    {
     "data": {
      "text/plain": [
       "(6301, 23)"
      ]
     },
     "execution_count": 73,
     "metadata": {},
     "output_type": "execute_result"
    }
   ],
   "source": [
    "# Creating and Assigning to Adj_Year the value Year, then, treating the cases where Year = 0 with the defined fucntion above \n",
    "raw_data_1['Adj_Year'] = raw_data_1.Year\n",
    "raw_data_1.loc[raw_data_1.Adj_Year == 0,'Adj_Year'] = raw_data_1.Date.map(treat_col_year)\n",
    "raw_data_1.shape"
   ]
  },
  {
   "cell_type": "code",
   "execution_count": 74,
   "metadata": {},
   "outputs": [
    {
     "data": {
      "text/plain": [
       "(6290, 23)"
      ]
     },
     "execution_count": 74,
     "metadata": {},
     "output_type": "execute_result"
    }
   ],
   "source": [
    "# Dropping NaN values in Adj_Year column.\n",
    "raw_data_1.dropna(subset = ['Adj_Year'],inplace = True)\n",
    "raw_data_1.shape"
   ]
  },
  {
   "cell_type": "code",
   "execution_count": 75,
   "metadata": {},
   "outputs": [
    {
     "data": {
      "text/plain": [
       "array(['F', 'M', nan, 'M ', 'lli', 'N', '.'], dtype=object)"
      ]
     },
     "execution_count": 75,
     "metadata": {},
     "output_type": "execute_result"
    }
   ],
   "source": [
    "# Checking unique registers in Sex column.\n",
    "raw_data_1.Sex.unique()"
   ]
  },
  {
   "cell_type": "code",
   "execution_count": 76,
   "metadata": {},
   "outputs": [],
   "source": [
    "# Defining function to treat sex column\n",
    "def treat_col_sex(x):\n",
    "    if type(x) == str:\n",
    "        x = x.strip().upper()\n",
    "        list_sex = ['M','F']\n",
    "        if x == 'N':\n",
    "            x = 'M'\n",
    "        else:\n",
    "            pass\n",
    "        if x in list_sex:\n",
    "            return x\n",
    "        else:\n",
    "            return 'Not available'\n",
    "    else:\n",
    "        return 'Not available'"
   ]
  },
  {
   "cell_type": "code",
   "execution_count": 77,
   "metadata": {},
   "outputs": [],
   "source": [
    "# Creating a new columns Adj_Gender to assign the tretated values from column Sex \n",
    "raw_data_1['Adj_Gender'] = ''\n",
    "raw_data_1.loc[:,'Adj_Gender'] = raw_data_1.Sex.map(treat_col_sex)"
   ]
  },
  {
   "cell_type": "code",
   "execution_count": 78,
   "metadata": {},
   "outputs": [
    {
     "data": {
      "text/plain": [
       "array(['N', 'Y', nan, 'M', 'UNKNOWN', '2017', ' N', 'N ', 'y'],\n",
       "      dtype=object)"
      ]
     },
     "execution_count": 78,
     "metadata": {},
     "output_type": "execute_result"
    }
   ],
   "source": [
    "# Checking unique values from Fatal_Y/N.\n",
    "raw_data_1['Fatal_(Y/N)'].unique()"
   ]
  },
  {
   "cell_type": "code",
   "execution_count": null,
   "metadata": {},
   "outputs": [],
   "source": [
    "# Defining function to treat Fatal (Y/N) column\n",
    "def treat_col_fatal(x):\n",
    "    if type(x) == str:\n",
    "        x = x.strip().upper()\n",
    "        list_YN = ['Y','N']\n",
    "        if x == 'M':\n",
    "            x = 'N'\n",
    "        else:\n",
    "            pass\n",
    "        if x in list_YN:\n",
    "            return x\n",
    "        else:\n",
    "            return 'Not available'\n",
    "    else:\n",
    "        return 'Not available'"
   ]
  },
  {
   "cell_type": "code",
   "execution_count": 79,
   "metadata": {},
   "outputs": [],
   "source": [
    "# Creating a new columns Adj_Death to assign the tretated values from column Fatal_Y/N \n",
    "raw_data_1['Adj_Death'] = ''\n",
    "raw_data_1.loc[:,'Adj_Death'] = raw_data_1['Fatal_(Y/N)'].map(treat_col_fatal)"
   ]
  },
  {
   "cell_type": "code",
   "execution_count": 80,
   "metadata": {},
   "outputs": [
    {
     "data": {
      "text/plain": [
       "array(['57', '11', '48', nan, '18', '52', '15', '12', '32', '10', '21',\n",
       "       '34', '30', '60', '33', '29', '54', '41', '37', '56', '19', '25',\n",
       "       '69', '38', '55', '35', '46', '45', '14', '40s', '28', '20', '24',\n",
       "       '26', '49', '22', '7', '31', '17', '40', '13', '42', '3', '8',\n",
       "       '50', '16', '82', '73', '20s', '68', '51', '39', '58', 'Teen',\n",
       "       '47', '61', '65', '36', '66', '43', '60s', '9', '72', '59', '6',\n",
       "       '27', '64', '23', '71', '44', '62', '63', '70', '18 months', '53',\n",
       "       '30s', '50s', 'teen', '77', '74', '28 & 26', '5', '86', '18 or 20',\n",
       "       '12 or 13', '46 & 34', '28, 23 & 30', 'Teens', '36 & 26',\n",
       "       '8 or 10', '84', '� ', ' ', '30 or 36', '6�', '21 & ?', '75',\n",
       "       '33 or 37', 'mid-30s', '23 & 20', ' 30', '7      &    31', ' 28',\n",
       "       '20?', \"60's\", '32 & 30', '16 to 18', '87', '67', 'Elderly',\n",
       "       'mid-20s', 'Ca. 33', '74 ', '45 ', '21 or 26', '20 ', '>50',\n",
       "       '18 to 22', 'adult', '9 & 12', '? & 19', '9 months', '25 to 35',\n",
       "       '23 & 26', '1', '(adult)', '33 & 37', '25 or 28',\n",
       "       '37, 67, 35, 27,  ? & 27', '21, 34,24 & 35', '30 & 32', '50 & 30',\n",
       "       '17 & 35', 'X', '\"middle-age\"', '13 or 18', '34 & 19', '33 & 26',\n",
       "       '2 to 3 months', 'MAKE LINE GREEN', ' 43', '81', '\"young\"',\n",
       "       '7 or 8', '78', '17 & 16', 'F', 'Both 11', '9 or 10', 'young',\n",
       "       '36 & 23', '  ', 'A.M.', '?    &   14', '10 or 12', '31 or 33',\n",
       "       '2�', '13 or 14'], dtype=object)"
      ]
     },
     "execution_count": 80,
     "metadata": {},
     "output_type": "execute_result"
    }
   ],
   "source": [
    "# Checking Age unique values\n",
    "raw_data_1.Age.unique()"
   ]
  },
  {
   "cell_type": "code",
   "execution_count": 81,
   "metadata": {},
   "outputs": [],
   "source": [
    "# Defining function to treat Age column\n",
    "def treat_col_age(x):\n",
    "    if type(x) == str:\n",
    "        try: \n",
    "            if '[Mm]onth[s ]'in x:\n",
    "                x1 = re.sub('\\D',\"\", x)\n",
    "                x2 = x1/12\n",
    "                return float (x2)\n",
    "            else:\n",
    "                x1 = re.sub('\\D',\"\", x)\n",
    "                return float (x)\n",
    "        except:\n",
    "            return np.nan\n",
    "    else:\n",
    "        return x"
   ]
  },
  {
   "cell_type": "code",
   "execution_count": 82,
   "metadata": {},
   "outputs": [
    {
     "data": {
      "text/plain": [
       "count    3368.000000\n",
       "mean       27.366093\n",
       "std        13.909223\n",
       "min         1.000000\n",
       "25%        17.000000\n",
       "50%        24.000000\n",
       "75%        35.000000\n",
       "max        87.000000\n",
       "Name: Adj_Age, dtype: float64"
      ]
     },
     "execution_count": 82,
     "metadata": {},
     "output_type": "execute_result"
    }
   ],
   "source": [
    "raw_data_1['Adj_Age'] = 0\n",
    "raw_data_1.loc[:,'Adj_Age'] = raw_data_1['Age'].map(treat_col_age)\n",
    "raw_data_1.Adj_Age.describe()"
   ]
  },
  {
   "cell_type": "code",
   "execution_count": 86,
   "metadata": {},
   "outputs": [],
   "source": [
    "# Creating two columns with values 1/0 to count number of deaths vs. attacks\n",
    "raw_data_1['Death_1_0'] = 0\n",
    "raw_data_1['Attack_1_0'] = 1"
   ]
  },
  {
   "cell_type": "code",
   "execution_count": 87,
   "metadata": {},
   "outputs": [],
   "source": [
    "# Assigning 1 to the filtered df, where Adj_death = 1\n",
    "raw_data_1.loc[raw_data_1.Adj_Death == 'Y', 'Death_1_0'] = 1"
   ]
  },
  {
   "cell_type": "code",
   "execution_count": 88,
   "metadata": {},
   "outputs": [
    {
     "name": "stdout",
     "output_type": "stream",
     "text": [
      "<class 'pandas.core.frame.DataFrame'>\n",
      "Int64Index: 6290 entries, 0 to 6301\n",
      "Data columns (total 30 columns):\n",
      " #   Column                  Non-Null Count  Dtype   \n",
      "---  ------                  --------------  -----   \n",
      " 0   Case_Number             6290 non-null   object  \n",
      " 1   Date                    6290 non-null   object  \n",
      " 2   Year                    6290 non-null   float64 \n",
      " 3   Type                    6286 non-null   object  \n",
      " 4   Country                 6240 non-null   object  \n",
      " 5   Area                    5836 non-null   object  \n",
      " 6   Location                5752 non-null   object  \n",
      " 7   Activity                5746 non-null   object  \n",
      " 8   Name                    6081 non-null   object  \n",
      " 9   Sex                     5725 non-null   object  \n",
      " 10  Age                     3470 non-null   object  \n",
      " 11  Injury                  6262 non-null   object  \n",
      " 12  Fatal_(Y/N)             5752 non-null   object  \n",
      " 13  Time                    2948 non-null   object  \n",
      " 14  Species                 3463 non-null   object  \n",
      " 15  Investigator_Or_Source  6273 non-null   object  \n",
      " 16  Pdf                     6290 non-null   object  \n",
      " 17  Href_Formula            6289 non-null   object  \n",
      " 18  Href                    6290 non-null   object  \n",
      " 19  Case_Number.1           6290 non-null   object  \n",
      " 20  Case_Number.2           6290 non-null   object  \n",
      " 21  Original_Order          6290 non-null   float64 \n",
      " 22  Adj_Year                6290 non-null   float64 \n",
      " 23  Adj_Gender              6290 non-null   object  \n",
      " 24  Adj_Death               6290 non-null   object  \n",
      " 25  Adj_Age                 3368 non-null   float64 \n",
      " 26  Group_Year              6290 non-null   category\n",
      " 27  Group_Age               3089 non-null   category\n",
      " 28  Death_1_0               6290 non-null   int64   \n",
      " 29  Attack_1_0              6290 non-null   int64   \n",
      "dtypes: category(2), float64(4), int64(2), object(22)\n",
      "memory usage: 1.4+ MB\n"
     ]
    }
   ],
   "source": [
    "# Creating Death_Rate column\n",
    "raw_data_1.info()"
   ]
  },
  {
   "cell_type": "code",
   "execution_count": 89,
   "metadata": {},
   "outputs": [
    {
     "data": {
      "text/plain": [
       "[(2010, 2020], (2000, 2010], (1990, 2000], (1980, 1990], (1960, 1970], ..., (1930, 1940], (1920, 1930], (1910, 1920], (1900, 1910], (-1000, 0]]\n",
       "Length: 14\n",
       "Categories (14, interval[int64]): [(-1000, 0] < (0, 1900] < (1900, 1910] < (1910, 1920] ... (1980, 1990] < (1990, 2000] < (2000, 2010] < (2010, 2020]]"
      ]
     },
     "execution_count": 89,
     "metadata": {},
     "output_type": "execute_result"
    }
   ],
   "source": [
    "# Grouping years into new column called Group_Year\n",
    "raw_data_1['Group_Year'] = np.nan\n",
    "raw_data_1.loc[:,'Group_Year'] = pd.cut(raw_data_1.Adj_Year, bins = [-1000,0,1900,1910,1920,1930,1940,1950,1960,1970,\\\n",
    "                                                           1980,1990, 2000, 2010,2020])\n",
    "# Grouping Age into new column called Group_Age\n",
    "raw_data_1['Group_Age'] = np.nan\n",
    "raw_data_1.loc[:,'Group_Age'] = pd.cut(raw_data_1.Adj_Age, bins = [12,18,60,90])\n",
    "raw_data_1.Group_Year.unique()"
   ]
  },
  {
   "cell_type": "code",
   "execution_count": 90,
   "metadata": {},
   "outputs": [],
   "source": [
    "# Creating a summarized table with columns that will be used to answer our first question\n",
    "values_to_analyse = ['Death_1_0','Attack_1_0']\n",
    "keys = ['Country']\n",
    "top_countries_attacks = raw_data_1.groupby(by=keys,as_index=False,)[values_to_analyse]\\\n",
    "                                    .sum()\\\n",
    "                                    .sort_values(by='Attack_1_0', ascending=False)\\\n",
    "                                    .head(10)\n",
    "                                    #.style.hide_index()\n",
    "top_countries_death = raw_data_1.groupby(by=keys,as_index=False,)[values_to_analyse]\\\n",
    "                                    .sum()\\\n",
    "                                    .sort_values(by='Death_1_0', ascending=False)\\\n",
    "                                    .head(10)\n",
    "                                    #.style.hide_index()"
   ]
  },
  {
   "cell_type": "code",
   "execution_count": 91,
   "metadata": {},
   "outputs": [
    {
     "data": {
      "text/html": [
       "<div>\n",
       "<style scoped>\n",
       "    .dataframe tbody tr th:only-of-type {\n",
       "        vertical-align: middle;\n",
       "    }\n",
       "\n",
       "    .dataframe tbody tr th {\n",
       "        vertical-align: top;\n",
       "    }\n",
       "\n",
       "    .dataframe thead th {\n",
       "        text-align: right;\n",
       "    }\n",
       "</style>\n",
       "<table border=\"1\" class=\"dataframe\">\n",
       "  <thead>\n",
       "    <tr style=\"text-align: right;\">\n",
       "      <th></th>\n",
       "      <th>Country</th>\n",
       "      <th>Death_1_0</th>\n",
       "      <th>Attack_1_0</th>\n",
       "    </tr>\n",
       "  </thead>\n",
       "  <tbody>\n",
       "    <tr>\n",
       "      <th>204</th>\n",
       "      <td>USA</td>\n",
       "      <td>186</td>\n",
       "      <td>2227</td>\n",
       "    </tr>\n",
       "    <tr>\n",
       "      <th>14</th>\n",
       "      <td>AUSTRALIA</td>\n",
       "      <td>283</td>\n",
       "      <td>1335</td>\n",
       "    </tr>\n",
       "    <tr>\n",
       "      <th>171</th>\n",
       "      <td>SOUTH AFRICA</td>\n",
       "      <td>105</td>\n",
       "      <td>577</td>\n",
       "    </tr>\n",
       "    <tr>\n",
       "      <th>145</th>\n",
       "      <td>PAPUA NEW GUINEA</td>\n",
       "      <td>56</td>\n",
       "      <td>132</td>\n",
       "    </tr>\n",
       "    <tr>\n",
       "      <th>127</th>\n",
       "      <td>NEW ZEALAND</td>\n",
       "      <td>24</td>\n",
       "      <td>128</td>\n",
       "    </tr>\n",
       "    <tr>\n",
       "      <th>23</th>\n",
       "      <td>BRAZIL</td>\n",
       "      <td>38</td>\n",
       "      <td>112</td>\n",
       "    </tr>\n",
       "    <tr>\n",
       "      <th>16</th>\n",
       "      <td>BAHAMAS</td>\n",
       "      <td>10</td>\n",
       "      <td>109</td>\n",
       "    </tr>\n",
       "    <tr>\n",
       "      <th>113</th>\n",
       "      <td>MEXICO</td>\n",
       "      <td>43</td>\n",
       "      <td>89</td>\n",
       "    </tr>\n",
       "    <tr>\n",
       "      <th>90</th>\n",
       "      <td>ITALY</td>\n",
       "      <td>14</td>\n",
       "      <td>71</td>\n",
       "    </tr>\n",
       "    <tr>\n",
       "      <th>61</th>\n",
       "      <td>FIJI</td>\n",
       "      <td>22</td>\n",
       "      <td>62</td>\n",
       "    </tr>\n",
       "  </tbody>\n",
       "</table>\n",
       "</div>"
      ],
      "text/plain": [
       "              Country  Death_1_0  Attack_1_0\n",
       "204               USA        186        2227\n",
       "14          AUSTRALIA        283        1335\n",
       "171      SOUTH AFRICA        105         577\n",
       "145  PAPUA NEW GUINEA         56         132\n",
       "127       NEW ZEALAND         24         128\n",
       "23             BRAZIL         38         112\n",
       "16            BAHAMAS         10         109\n",
       "113            MEXICO         43          89\n",
       "90              ITALY         14          71\n",
       "61               FIJI         22          62"
      ]
     },
     "execution_count": 91,
     "metadata": {},
     "output_type": "execute_result"
    }
   ],
   "source": [
    "#Answering question 1\n",
    "answer_1 = top_countries_attacks\n",
    "answer_1"
   ]
  },
  {
   "cell_type": "code",
   "execution_count": 92,
   "metadata": {},
   "outputs": [
    {
     "data": {
      "text/html": [
       "<div>\n",
       "<style scoped>\n",
       "    .dataframe tbody tr th:only-of-type {\n",
       "        vertical-align: middle;\n",
       "    }\n",
       "\n",
       "    .dataframe tbody tr th {\n",
       "        vertical-align: top;\n",
       "    }\n",
       "\n",
       "    .dataframe thead th {\n",
       "        text-align: right;\n",
       "    }\n",
       "</style>\n",
       "<table border=\"1\" class=\"dataframe\">\n",
       "  <thead>\n",
       "    <tr style=\"text-align: right;\">\n",
       "      <th></th>\n",
       "      <th>Country</th>\n",
       "      <th>Death_1_0</th>\n",
       "      <th>Attack_1_0</th>\n",
       "    </tr>\n",
       "  </thead>\n",
       "  <tbody>\n",
       "    <tr>\n",
       "      <th>14</th>\n",
       "      <td>AUSTRALIA</td>\n",
       "      <td>283</td>\n",
       "      <td>1335</td>\n",
       "    </tr>\n",
       "    <tr>\n",
       "      <th>204</th>\n",
       "      <td>USA</td>\n",
       "      <td>186</td>\n",
       "      <td>2227</td>\n",
       "    </tr>\n",
       "    <tr>\n",
       "      <th>171</th>\n",
       "      <td>SOUTH AFRICA</td>\n",
       "      <td>105</td>\n",
       "      <td>577</td>\n",
       "    </tr>\n",
       "    <tr>\n",
       "      <th>145</th>\n",
       "      <td>PAPUA NEW GUINEA</td>\n",
       "      <td>56</td>\n",
       "      <td>132</td>\n",
       "    </tr>\n",
       "    <tr>\n",
       "      <th>113</th>\n",
       "      <td>MEXICO</td>\n",
       "      <td>43</td>\n",
       "      <td>89</td>\n",
       "    </tr>\n",
       "    <tr>\n",
       "      <th>23</th>\n",
       "      <td>BRAZIL</td>\n",
       "      <td>38</td>\n",
       "      <td>112</td>\n",
       "    </tr>\n",
       "    <tr>\n",
       "      <th>149</th>\n",
       "      <td>PHILIPPINES</td>\n",
       "      <td>35</td>\n",
       "      <td>61</td>\n",
       "    </tr>\n",
       "    <tr>\n",
       "      <th>155</th>\n",
       "      <td>REUNION</td>\n",
       "      <td>29</td>\n",
       "      <td>59</td>\n",
       "    </tr>\n",
       "    <tr>\n",
       "      <th>127</th>\n",
       "      <td>NEW ZEALAND</td>\n",
       "      <td>24</td>\n",
       "      <td>128</td>\n",
       "    </tr>\n",
       "    <tr>\n",
       "      <th>45</th>\n",
       "      <td>CUBA</td>\n",
       "      <td>24</td>\n",
       "      <td>46</td>\n",
       "    </tr>\n",
       "  </tbody>\n",
       "</table>\n",
       "</div>"
      ],
      "text/plain": [
       "              Country  Death_1_0  Attack_1_0\n",
       "14          AUSTRALIA        283        1335\n",
       "204               USA        186        2227\n",
       "171      SOUTH AFRICA        105         577\n",
       "145  PAPUA NEW GUINEA         56         132\n",
       "113            MEXICO         43          89\n",
       "23             BRAZIL         38         112\n",
       "149       PHILIPPINES         35          61\n",
       "155           REUNION         29          59\n",
       "127       NEW ZEALAND         24         128\n",
       "45               CUBA         24          46"
      ]
     },
     "execution_count": 92,
     "metadata": {},
     "output_type": "execute_result"
    }
   ],
   "source": [
    "#Answering question 2\n",
    "answer_2 = top_countries_death\n",
    "answer_2"
   ]
  },
  {
   "cell_type": "code",
   "execution_count": 93,
   "metadata": {},
   "outputs": [
    {
     "data": {
      "text/plain": [
       "['PHILIPPINES', 'REUNION', 'CUBA']"
      ]
     },
     "execution_count": 93,
     "metadata": {},
     "output_type": "execute_result"
    }
   ],
   "source": [
    "# Answering the second part from question 2\n",
    "countries_death = list(answer_2.Country)\n",
    "countries_attack = list (answer_1.Country)\n",
    "diff_countries = [country for country in countries_death if country not in countries_attack]\n",
    "diff_countries"
   ]
  },
  {
   "cell_type": "code",
   "execution_count": 95,
   "metadata": {},
   "outputs": [],
   "source": [
    "# Creating a dataframe with all the the countries in Top 10 attacks and deaths in order to answer question 3\n",
    "values_to_analyse = ['Death_1_0','Attack_1_0']\n",
    "keys = ['Country']\n",
    "all_countries = pd.concat([answer_1,answer_2],ignore_index = True)\n",
    "all_countries = all_countries.drop_duplicates()"
   ]
  },
  {
   "cell_type": "code",
   "execution_count": 96,
   "metadata": {},
   "outputs": [
    {
     "data": {
      "text/html": [
       "<style  type=\"text/css\" >\n",
       "</style><table id=\"T_36331_\" ><thead>    <tr>        <th class=\"col_heading level0 col0\" >Country</th>        <th class=\"col_heading level0 col1\" >Death_1_0</th>        <th class=\"col_heading level0 col2\" >Attack_1_0</th>        <th class=\"col_heading level0 col3\" >Death_Rate</th>    </tr></thead><tbody>\n",
       "                <tr>\n",
       "                                <td id=\"T_36331_row0_col0\" class=\"data row0 col0\" >PHILIPPINES</td>\n",
       "                        <td id=\"T_36331_row0_col1\" class=\"data row0 col1\" >35</td>\n",
       "                        <td id=\"T_36331_row0_col2\" class=\"data row0 col2\" >61</td>\n",
       "                        <td id=\"T_36331_row0_col3\" class=\"data row0 col3\" >57.38%</td>\n",
       "            </tr>\n",
       "            <tr>\n",
       "                                <td id=\"T_36331_row1_col0\" class=\"data row1 col0\" >CUBA</td>\n",
       "                        <td id=\"T_36331_row1_col1\" class=\"data row1 col1\" >24</td>\n",
       "                        <td id=\"T_36331_row1_col2\" class=\"data row1 col2\" >46</td>\n",
       "                        <td id=\"T_36331_row1_col3\" class=\"data row1 col3\" >52.17%</td>\n",
       "            </tr>\n",
       "            <tr>\n",
       "                                <td id=\"T_36331_row2_col0\" class=\"data row2 col0\" >REUNION</td>\n",
       "                        <td id=\"T_36331_row2_col1\" class=\"data row2 col1\" >29</td>\n",
       "                        <td id=\"T_36331_row2_col2\" class=\"data row2 col2\" >59</td>\n",
       "                        <td id=\"T_36331_row2_col3\" class=\"data row2 col3\" >49.15%</td>\n",
       "            </tr>\n",
       "            <tr>\n",
       "                                <td id=\"T_36331_row3_col0\" class=\"data row3 col0\" >MEXICO</td>\n",
       "                        <td id=\"T_36331_row3_col1\" class=\"data row3 col1\" >43</td>\n",
       "                        <td id=\"T_36331_row3_col2\" class=\"data row3 col2\" >89</td>\n",
       "                        <td id=\"T_36331_row3_col3\" class=\"data row3 col3\" >48.31%</td>\n",
       "            </tr>\n",
       "            <tr>\n",
       "                                <td id=\"T_36331_row4_col0\" class=\"data row4 col0\" >PAPUA NEW GUINEA</td>\n",
       "                        <td id=\"T_36331_row4_col1\" class=\"data row4 col1\" >56</td>\n",
       "                        <td id=\"T_36331_row4_col2\" class=\"data row4 col2\" >132</td>\n",
       "                        <td id=\"T_36331_row4_col3\" class=\"data row4 col3\" >42.42%</td>\n",
       "            </tr>\n",
       "            <tr>\n",
       "                                <td id=\"T_36331_row5_col0\" class=\"data row5 col0\" >FIJI</td>\n",
       "                        <td id=\"T_36331_row5_col1\" class=\"data row5 col1\" >22</td>\n",
       "                        <td id=\"T_36331_row5_col2\" class=\"data row5 col2\" >62</td>\n",
       "                        <td id=\"T_36331_row5_col3\" class=\"data row5 col3\" >35.48%</td>\n",
       "            </tr>\n",
       "            <tr>\n",
       "                                <td id=\"T_36331_row6_col0\" class=\"data row6 col0\" >BRAZIL</td>\n",
       "                        <td id=\"T_36331_row6_col1\" class=\"data row6 col1\" >38</td>\n",
       "                        <td id=\"T_36331_row6_col2\" class=\"data row6 col2\" >112</td>\n",
       "                        <td id=\"T_36331_row6_col3\" class=\"data row6 col3\" >33.93%</td>\n",
       "            </tr>\n",
       "            <tr>\n",
       "                                <td id=\"T_36331_row7_col0\" class=\"data row7 col0\" >AUSTRALIA</td>\n",
       "                        <td id=\"T_36331_row7_col1\" class=\"data row7 col1\" >283</td>\n",
       "                        <td id=\"T_36331_row7_col2\" class=\"data row7 col2\" >1335</td>\n",
       "                        <td id=\"T_36331_row7_col3\" class=\"data row7 col3\" >21.20%</td>\n",
       "            </tr>\n",
       "            <tr>\n",
       "                                <td id=\"T_36331_row8_col0\" class=\"data row8 col0\" >ITALY</td>\n",
       "                        <td id=\"T_36331_row8_col1\" class=\"data row8 col1\" >14</td>\n",
       "                        <td id=\"T_36331_row8_col2\" class=\"data row8 col2\" >71</td>\n",
       "                        <td id=\"T_36331_row8_col3\" class=\"data row8 col3\" >19.72%</td>\n",
       "            </tr>\n",
       "            <tr>\n",
       "                                <td id=\"T_36331_row9_col0\" class=\"data row9 col0\" >NEW ZEALAND</td>\n",
       "                        <td id=\"T_36331_row9_col1\" class=\"data row9 col1\" >24</td>\n",
       "                        <td id=\"T_36331_row9_col2\" class=\"data row9 col2\" >128</td>\n",
       "                        <td id=\"T_36331_row9_col3\" class=\"data row9 col3\" >18.75%</td>\n",
       "            </tr>\n",
       "            <tr>\n",
       "                                <td id=\"T_36331_row10_col0\" class=\"data row10 col0\" >SOUTH AFRICA</td>\n",
       "                        <td id=\"T_36331_row10_col1\" class=\"data row10 col1\" >105</td>\n",
       "                        <td id=\"T_36331_row10_col2\" class=\"data row10 col2\" >577</td>\n",
       "                        <td id=\"T_36331_row10_col3\" class=\"data row10 col3\" >18.20%</td>\n",
       "            </tr>\n",
       "            <tr>\n",
       "                                <td id=\"T_36331_row11_col0\" class=\"data row11 col0\" >BAHAMAS</td>\n",
       "                        <td id=\"T_36331_row11_col1\" class=\"data row11 col1\" >10</td>\n",
       "                        <td id=\"T_36331_row11_col2\" class=\"data row11 col2\" >109</td>\n",
       "                        <td id=\"T_36331_row11_col3\" class=\"data row11 col3\" >9.17%</td>\n",
       "            </tr>\n",
       "            <tr>\n",
       "                                <td id=\"T_36331_row12_col0\" class=\"data row12 col0\" >USA</td>\n",
       "                        <td id=\"T_36331_row12_col1\" class=\"data row12 col1\" >186</td>\n",
       "                        <td id=\"T_36331_row12_col2\" class=\"data row12 col2\" >2227</td>\n",
       "                        <td id=\"T_36331_row12_col3\" class=\"data row12 col3\" >8.35%</td>\n",
       "            </tr>\n",
       "    </tbody></table>"
      ],
      "text/plain": [
       "<pandas.io.formats.style.Styler at 0x11def9b80>"
      ]
     },
     "execution_count": 96,
     "metadata": {},
     "output_type": "execute_result"
    }
   ],
   "source": [
    "# Answerting question 3\n",
    "answer_3 = all_countries\n",
    "answer_3['Death_Rate'] = answer_3.Death_1_0/answer_3.Attack_1_0\n",
    "answer_3 = answer_3.sort_values(by='Death_Rate', ascending=False)\n",
    "format_dict = {'Death_Rate': '{:.2%}'}\n",
    "answer_3 = answer_3.style.format(format_dict).hide_index()\n",
    "answer_3"
   ]
  },
  {
   "cell_type": "code",
   "execution_count": 97,
   "metadata": {},
   "outputs": [
    {
     "data": {
      "text/plain": [
       "13"
      ]
     },
     "execution_count": 97,
     "metadata": {},
     "output_type": "execute_result"
    }
   ],
   "source": [
    "# Creating two lists: 1 for the top 10 countries with most attacks and another one for the top 10 in death historically. \n",
    "# This list will be used to filter our 'full dataframe' (with the rest of the columns), abling a vision \n",
    "# from Age, Year\n",
    "list_countries = countries_attack + diff_countries\n",
    "len(list_countries)"
   ]
  },
  {
   "cell_type": "code",
   "execution_count": 98,
   "metadata": {},
   "outputs": [
    {
     "data": {
      "text/html": [
       "<div>\n",
       "<style scoped>\n",
       "    .dataframe tbody tr th:only-of-type {\n",
       "        vertical-align: middle;\n",
       "    }\n",
       "\n",
       "    .dataframe tbody tr th {\n",
       "        vertical-align: top;\n",
       "    }\n",
       "\n",
       "    .dataframe thead th {\n",
       "        text-align: right;\n",
       "    }\n",
       "</style>\n",
       "<table border=\"1\" class=\"dataframe\">\n",
       "  <thead>\n",
       "    <tr style=\"text-align: right;\">\n",
       "      <th></th>\n",
       "      <th>Case_Number</th>\n",
       "      <th>Date</th>\n",
       "      <th>Year</th>\n",
       "      <th>Type</th>\n",
       "      <th>Country</th>\n",
       "      <th>Area</th>\n",
       "      <th>Location</th>\n",
       "      <th>Activity</th>\n",
       "      <th>Name</th>\n",
       "      <th>Sex</th>\n",
       "      <th>...</th>\n",
       "      <th>Case_Number.2</th>\n",
       "      <th>Original_Order</th>\n",
       "      <th>Adj_Year</th>\n",
       "      <th>Adj_Gender</th>\n",
       "      <th>Adj_Death</th>\n",
       "      <th>Adj_Age</th>\n",
       "      <th>Group_Year</th>\n",
       "      <th>Group_Age</th>\n",
       "      <th>Death_1_0</th>\n",
       "      <th>Attack_1_0</th>\n",
       "    </tr>\n",
       "  </thead>\n",
       "  <tbody>\n",
       "    <tr>\n",
       "      <th>0</th>\n",
       "      <td>2018.06.25</td>\n",
       "      <td>25-Jun-2018</td>\n",
       "      <td>2018.0</td>\n",
       "      <td>Boating</td>\n",
       "      <td>USA</td>\n",
       "      <td>California</td>\n",
       "      <td>Oceanside, San Diego County</td>\n",
       "      <td>Paddling</td>\n",
       "      <td>Julie Wolfe</td>\n",
       "      <td>F</td>\n",
       "      <td>...</td>\n",
       "      <td>2018.06.25</td>\n",
       "      <td>6303.0</td>\n",
       "      <td>2018.0</td>\n",
       "      <td>F</td>\n",
       "      <td>N</td>\n",
       "      <td>57.0</td>\n",
       "      <td>(2010, 2020]</td>\n",
       "      <td>(18.0, 60.0]</td>\n",
       "      <td>0</td>\n",
       "      <td>1</td>\n",
       "    </tr>\n",
       "    <tr>\n",
       "      <th>1</th>\n",
       "      <td>2018.06.18</td>\n",
       "      <td>18-Jun-2018</td>\n",
       "      <td>2018.0</td>\n",
       "      <td>Unprovoked</td>\n",
       "      <td>USA</td>\n",
       "      <td>Georgia</td>\n",
       "      <td>St. Simon Island, Glynn County</td>\n",
       "      <td>Standing</td>\n",
       "      <td>Adyson�McNeely</td>\n",
       "      <td>F</td>\n",
       "      <td>...</td>\n",
       "      <td>2018.06.18</td>\n",
       "      <td>6302.0</td>\n",
       "      <td>2018.0</td>\n",
       "      <td>F</td>\n",
       "      <td>N</td>\n",
       "      <td>11.0</td>\n",
       "      <td>(2010, 2020]</td>\n",
       "      <td>NaN</td>\n",
       "      <td>0</td>\n",
       "      <td>1</td>\n",
       "    </tr>\n",
       "    <tr>\n",
       "      <th>2</th>\n",
       "      <td>2018.06.09</td>\n",
       "      <td>09-Jun-2018</td>\n",
       "      <td>2018.0</td>\n",
       "      <td>Invalid</td>\n",
       "      <td>USA</td>\n",
       "      <td>Hawaii</td>\n",
       "      <td>Habush, Oahu</td>\n",
       "      <td>Surfing</td>\n",
       "      <td>John Denges</td>\n",
       "      <td>M</td>\n",
       "      <td>...</td>\n",
       "      <td>2018.06.09</td>\n",
       "      <td>6301.0</td>\n",
       "      <td>2018.0</td>\n",
       "      <td>M</td>\n",
       "      <td>N</td>\n",
       "      <td>48.0</td>\n",
       "      <td>(2010, 2020]</td>\n",
       "      <td>(18.0, 60.0]</td>\n",
       "      <td>0</td>\n",
       "      <td>1</td>\n",
       "    </tr>\n",
       "    <tr>\n",
       "      <th>3</th>\n",
       "      <td>2018.06.08</td>\n",
       "      <td>08-Jun-2018</td>\n",
       "      <td>2018.0</td>\n",
       "      <td>Unprovoked</td>\n",
       "      <td>AUSTRALIA</td>\n",
       "      <td>New South Wales</td>\n",
       "      <td>Arrawarra Headland</td>\n",
       "      <td>Surfing</td>\n",
       "      <td>male</td>\n",
       "      <td>M</td>\n",
       "      <td>...</td>\n",
       "      <td>2018.06.08</td>\n",
       "      <td>6300.0</td>\n",
       "      <td>2018.0</td>\n",
       "      <td>M</td>\n",
       "      <td>N</td>\n",
       "      <td>NaN</td>\n",
       "      <td>(2010, 2020]</td>\n",
       "      <td>NaN</td>\n",
       "      <td>0</td>\n",
       "      <td>1</td>\n",
       "    </tr>\n",
       "    <tr>\n",
       "      <th>4</th>\n",
       "      <td>2018.06.04</td>\n",
       "      <td>04-Jun-2018</td>\n",
       "      <td>2018.0</td>\n",
       "      <td>Provoked</td>\n",
       "      <td>MEXICO</td>\n",
       "      <td>Colima</td>\n",
       "      <td>La Ticla</td>\n",
       "      <td>Free diving</td>\n",
       "      <td>Gustavo Ramos</td>\n",
       "      <td>M</td>\n",
       "      <td>...</td>\n",
       "      <td>2018.06.04</td>\n",
       "      <td>6299.0</td>\n",
       "      <td>2018.0</td>\n",
       "      <td>M</td>\n",
       "      <td>N</td>\n",
       "      <td>NaN</td>\n",
       "      <td>(2010, 2020]</td>\n",
       "      <td>NaN</td>\n",
       "      <td>0</td>\n",
       "      <td>1</td>\n",
       "    </tr>\n",
       "    <tr>\n",
       "      <th>...</th>\n",
       "      <td>...</td>\n",
       "      <td>...</td>\n",
       "      <td>...</td>\n",
       "      <td>...</td>\n",
       "      <td>...</td>\n",
       "      <td>...</td>\n",
       "      <td>...</td>\n",
       "      <td>...</td>\n",
       "      <td>...</td>\n",
       "      <td>...</td>\n",
       "      <td>...</td>\n",
       "      <td>...</td>\n",
       "      <td>...</td>\n",
       "      <td>...</td>\n",
       "      <td>...</td>\n",
       "      <td>...</td>\n",
       "      <td>...</td>\n",
       "      <td>...</td>\n",
       "      <td>...</td>\n",
       "      <td>...</td>\n",
       "      <td>...</td>\n",
       "    </tr>\n",
       "    <tr>\n",
       "      <th>6295</th>\n",
       "      <td>ND.0007</td>\n",
       "      <td>Before 1906</td>\n",
       "      <td>0.0</td>\n",
       "      <td>Unprovoked</td>\n",
       "      <td>AUSTRALIA</td>\n",
       "      <td>NaN</td>\n",
       "      <td>NaN</td>\n",
       "      <td>Fishing</td>\n",
       "      <td>fisherman</td>\n",
       "      <td>M</td>\n",
       "      <td>...</td>\n",
       "      <td>ND.0007</td>\n",
       "      <td>8.0</td>\n",
       "      <td>1906.0</td>\n",
       "      <td>M</td>\n",
       "      <td>Y</td>\n",
       "      <td>NaN</td>\n",
       "      <td>(1900, 1910]</td>\n",
       "      <td>NaN</td>\n",
       "      <td>1</td>\n",
       "      <td>1</td>\n",
       "    </tr>\n",
       "    <tr>\n",
       "      <th>6296</th>\n",
       "      <td>ND.0006</td>\n",
       "      <td>Before 1906</td>\n",
       "      <td>0.0</td>\n",
       "      <td>Unprovoked</td>\n",
       "      <td>AUSTRALIA</td>\n",
       "      <td>New South Wales</td>\n",
       "      <td></td>\n",
       "      <td>Swimming</td>\n",
       "      <td>Arab boy</td>\n",
       "      <td>M</td>\n",
       "      <td>...</td>\n",
       "      <td>ND.0006</td>\n",
       "      <td>7.0</td>\n",
       "      <td>1906.0</td>\n",
       "      <td>M</td>\n",
       "      <td>Y</td>\n",
       "      <td>NaN</td>\n",
       "      <td>(1900, 1910]</td>\n",
       "      <td>NaN</td>\n",
       "      <td>1</td>\n",
       "      <td>1</td>\n",
       "    </tr>\n",
       "    <tr>\n",
       "      <th>6297</th>\n",
       "      <td>ND.0005</td>\n",
       "      <td>Before 1903</td>\n",
       "      <td>0.0</td>\n",
       "      <td>Unprovoked</td>\n",
       "      <td>AUSTRALIA</td>\n",
       "      <td>Western Australia</td>\n",
       "      <td>Roebuck Bay</td>\n",
       "      <td>Diving</td>\n",
       "      <td>male</td>\n",
       "      <td>M</td>\n",
       "      <td>...</td>\n",
       "      <td>ND.0005</td>\n",
       "      <td>6.0</td>\n",
       "      <td>1903.0</td>\n",
       "      <td>M</td>\n",
       "      <td>Y</td>\n",
       "      <td>NaN</td>\n",
       "      <td>(1900, 1910]</td>\n",
       "      <td>NaN</td>\n",
       "      <td>1</td>\n",
       "      <td>1</td>\n",
       "    </tr>\n",
       "    <tr>\n",
       "      <th>6298</th>\n",
       "      <td>ND.0004</td>\n",
       "      <td>Before 1903</td>\n",
       "      <td>0.0</td>\n",
       "      <td>Unprovoked</td>\n",
       "      <td>AUSTRALIA</td>\n",
       "      <td>Western Australia</td>\n",
       "      <td>NaN</td>\n",
       "      <td>Pearl diving</td>\n",
       "      <td>Ahmun</td>\n",
       "      <td>M</td>\n",
       "      <td>...</td>\n",
       "      <td>ND.0004</td>\n",
       "      <td>5.0</td>\n",
       "      <td>1903.0</td>\n",
       "      <td>M</td>\n",
       "      <td>Y</td>\n",
       "      <td>NaN</td>\n",
       "      <td>(1900, 1910]</td>\n",
       "      <td>NaN</td>\n",
       "      <td>1</td>\n",
       "      <td>1</td>\n",
       "    </tr>\n",
       "    <tr>\n",
       "      <th>6299</th>\n",
       "      <td>ND.0003</td>\n",
       "      <td>1900-1905</td>\n",
       "      <td>0.0</td>\n",
       "      <td>Unprovoked</td>\n",
       "      <td>USA</td>\n",
       "      <td>North Carolina</td>\n",
       "      <td>Ocracoke Inlet</td>\n",
       "      <td>Swimming</td>\n",
       "      <td>Coast Guard personnel</td>\n",
       "      <td>M</td>\n",
       "      <td>...</td>\n",
       "      <td>ND.0003</td>\n",
       "      <td>4.0</td>\n",
       "      <td>1905.0</td>\n",
       "      <td>M</td>\n",
       "      <td>Y</td>\n",
       "      <td>NaN</td>\n",
       "      <td>(1900, 1910]</td>\n",
       "      <td>NaN</td>\n",
       "      <td>1</td>\n",
       "      <td>1</td>\n",
       "    </tr>\n",
       "  </tbody>\n",
       "</table>\n",
       "<p>5008 rows × 30 columns</p>\n",
       "</div>"
      ],
      "text/plain": [
       "     Case_Number         Date    Year        Type    Country  \\\n",
       "0     2018.06.25  25-Jun-2018  2018.0     Boating        USA   \n",
       "1     2018.06.18  18-Jun-2018  2018.0  Unprovoked        USA   \n",
       "2     2018.06.09  09-Jun-2018  2018.0     Invalid        USA   \n",
       "3     2018.06.08  08-Jun-2018  2018.0  Unprovoked  AUSTRALIA   \n",
       "4     2018.06.04  04-Jun-2018  2018.0    Provoked     MEXICO   \n",
       "...          ...          ...     ...         ...        ...   \n",
       "6295     ND.0007  Before 1906     0.0  Unprovoked  AUSTRALIA   \n",
       "6296     ND.0006  Before 1906     0.0  Unprovoked  AUSTRALIA   \n",
       "6297     ND.0005  Before 1903     0.0  Unprovoked  AUSTRALIA   \n",
       "6298     ND.0004  Before 1903     0.0  Unprovoked  AUSTRALIA   \n",
       "6299     ND.0003    1900-1905     0.0  Unprovoked        USA   \n",
       "\n",
       "                   Area                        Location      Activity  \\\n",
       "0            California     Oceanside, San Diego County      Paddling   \n",
       "1               Georgia  St. Simon Island, Glynn County      Standing   \n",
       "2                Hawaii                    Habush, Oahu       Surfing   \n",
       "3       New South Wales              Arrawarra Headland       Surfing   \n",
       "4                Colima                        La Ticla   Free diving   \n",
       "...                 ...                             ...           ...   \n",
       "6295                NaN                             NaN       Fishing   \n",
       "6296    New South Wales                                      Swimming   \n",
       "6297  Western Australia                     Roebuck Bay        Diving   \n",
       "6298  Western Australia                             NaN  Pearl diving   \n",
       "6299     North Carolina                  Ocracoke Inlet      Swimming   \n",
       "\n",
       "                       Name Sex  ... Case_Number.2 Original_Order Adj_Year  \\\n",
       "0               Julie Wolfe   F  ...    2018.06.25         6303.0   2018.0   \n",
       "1           Adyson�McNeely    F  ...    2018.06.18         6302.0   2018.0   \n",
       "2               John Denges   M  ...    2018.06.09         6301.0   2018.0   \n",
       "3                      male   M  ...    2018.06.08         6300.0   2018.0   \n",
       "4            Gustavo Ramos    M  ...    2018.06.04         6299.0   2018.0   \n",
       "...                     ...  ..  ...           ...            ...      ...   \n",
       "6295              fisherman   M  ...       ND.0007            8.0   1906.0   \n",
       "6296               Arab boy   M  ...       ND.0006            7.0   1906.0   \n",
       "6297                   male   M  ...       ND.0005            6.0   1903.0   \n",
       "6298                  Ahmun   M  ...       ND.0004            5.0   1903.0   \n",
       "6299  Coast Guard personnel   M  ...       ND.0003            4.0   1905.0   \n",
       "\n",
       "     Adj_Gender Adj_Death Adj_Age    Group_Year     Group_Age Death_1_0  \\\n",
       "0             F         N    57.0  (2010, 2020]  (18.0, 60.0]         0   \n",
       "1             F         N    11.0  (2010, 2020]           NaN         0   \n",
       "2             M         N    48.0  (2010, 2020]  (18.0, 60.0]         0   \n",
       "3             M         N     NaN  (2010, 2020]           NaN         0   \n",
       "4             M         N     NaN  (2010, 2020]           NaN         0   \n",
       "...         ...       ...     ...           ...           ...       ...   \n",
       "6295          M         Y     NaN  (1900, 1910]           NaN         1   \n",
       "6296          M         Y     NaN  (1900, 1910]           NaN         1   \n",
       "6297          M         Y     NaN  (1900, 1910]           NaN         1   \n",
       "6298          M         Y     NaN  (1900, 1910]           NaN         1   \n",
       "6299          M         Y     NaN  (1900, 1910]           NaN         1   \n",
       "\n",
       "     Attack_1_0  \n",
       "0             1  \n",
       "1             1  \n",
       "2             1  \n",
       "3             1  \n",
       "4             1  \n",
       "...         ...  \n",
       "6295          1  \n",
       "6296          1  \n",
       "6297          1  \n",
       "6298          1  \n",
       "6299          1  \n",
       "\n",
       "[5008 rows x 30 columns]"
      ]
     },
     "execution_count": 98,
     "metadata": {},
     "output_type": "execute_result"
    }
   ],
   "source": [
    "# Creating dataframe for further analysis.\n",
    "df_final = raw_data_1[raw_data_1.Country.isin(list_countries)]\n",
    "df_final"
   ]
  },
  {
   "cell_type": "code",
   "execution_count": 99,
   "metadata": {},
   "outputs": [
    {
     "data": {
      "text/plain": [
       "0.7961844197138315"
      ]
     },
     "execution_count": 99,
     "metadata": {},
     "output_type": "execute_result"
    }
   ],
   "source": [
    "len(df_final)/len(raw_data_1)"
   ]
  },
  {
   "cell_type": "code",
   "execution_count": null,
   "metadata": {},
   "outputs": [],
   "source": []
  },
  {
   "cell_type": "code",
   "execution_count": null,
   "metadata": {},
   "outputs": [],
   "source": []
  }
 ],
 "metadata": {
  "kernelspec": {
   "display_name": "Python 3",
   "language": "python",
   "name": "python3"
  },
  "language_info": {
   "codemirror_mode": {
    "name": "ipython",
    "version": 3
   },
   "file_extension": ".py",
   "mimetype": "text/x-python",
   "name": "python",
   "nbconvert_exporter": "python",
   "pygments_lexer": "ipython3",
   "version": "3.9.1"
  }
 },
 "nbformat": 4,
 "nbformat_minor": 4
}
